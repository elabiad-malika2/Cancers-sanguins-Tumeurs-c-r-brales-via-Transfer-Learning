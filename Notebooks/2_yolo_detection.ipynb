{
 "cells": [
  {
   "cell_type": "markdown",
   "id": "013c8e27",
   "metadata": {},
   "source": [
    "# Deuxième partie : Détection des tumeurs cérébrales avec YOLOv8\n",
    "\n",
    "Cette partie consiste à classer les images de tumeurs cérébrales et à localiser les tumeurs à l'aide du modèle YOLOv8."
   ]
  },
  {
   "cell_type": "code",
   "execution_count": null,
   "id": "4cf9c4db",
   "metadata": {},
   "outputs": [],
   "source": [
    "# Imports et configuration initiale"
   ]
  },
  {
   "cell_type": "markdown",
   "id": "1c9d7b5f",
   "metadata": {},
   "source": [
    "## 1. Afficher un échantillon d'images pour chaque classe avec les boîtes englobantes"
   ]
  },
  {
   "cell_type": "code",
   "execution_count": null,
   "id": "bf50ef9c",
   "metadata": {},
   "outputs": [],
   "source": [
    "import os\n",
    "from PIL import Image\n",
    "import matplotlib.pyplot as plt\n",
    "import matplotlib.patches as patches\n",
    "\n",
    "# Dossier racine du dataset\n",
    "data_dir = \"../Data/Raw/Data_Brain/Train\"\n",
    "\n",
    "# Récupérer les noms des classes (dossiers)\n",
    "classes = os.listdir(data_dir)\n",
    "print(\"Classes :\", classes)\n",
    "\n",
    "# Fonction pour convertir les coordonnées YOLO en coordonnées d'image\n",
    "def yolo_to_box(x_center, y_center, width, height, img_width, img_height):\n",
    "    x_min = (x_center - width / 2) * img_width\n",
    "    y_min = (y_center - height / 2) * img_height\n",
    "    box_width = width * img_width\n",
    "    box_height = height * img_height\n",
    "    return x_min, y_min, box_width, box_height\n",
    "\n",
    "# Afficher une image pour chaque classe\n",
    "plt.figure(figsize=(15, 5))\n",
    "\n",
    "for i, cls in enumerate(classes):\n",
    "    img_dir = os.path.join(data_dir, cls, \"images\")\n",
    "    label_dir = os.path.join(data_dir, cls, \"labels\")\n",
    "\n",
    "    # Prendre la première image et son label correspondant\n",
    "    img_name = os.listdir(img_dir)[0]\n",
    "    label_name = os.path.splitext(img_name)[0] + \".txt\"\n",
    "\n",
    "    img_path = os.path.join(img_dir, img_name)\n",
    "    label_path = os.path.join(label_dir, label_name)\n",
    "\n",
    "    # Ouvrir l’image\n",
    "    img = Image.open(img_path).convert(\"RGB\")\n",
    "    img_w, img_h = img.size\n",
    "\n",
    "    # Lire le fichier d’annotation\n",
    "    with open(label_path, \"r\") as f:\n",
    "        lines = f.readlines()\n",
    "\n",
    "    # Afficher l’image\n",
    "    ax = plt.subplot(1, len(classes), i + 1)\n",
    "    ax.imshow(img)\n",
    "    ax.set_title(cls)\n",
    "    ax.axis(\"off\")\n",
    "\n",
    "    # Dessiner les boîtes englobantes\n",
    "    for line in lines:\n",
    "        parts = line.strip().split()\n",
    "        if len(parts) < 5:\n",
    "            continue\n",
    "        _, x, y, w, h = map(float, parts)\n",
    "        x_min, y_min, bw, bh = yolo_to_box(x, y, w, h, img_w, img_h)\n",
    "        rect = patches.Rectangle(\n",
    "            (x_min, y_min), bw, bh, linewidth=2, edgecolor='red', facecolor='none'\n",
    "        )\n",
    "        ax.add_patch(rect)\n",
    "\n",
    "plt.tight_layout()\n",
    "plt.show()\n"
   ]
  },
  {
   "cell_type": "markdown",
   "id": "0e3d7f02",
   "metadata": {},
   "source": [
    "## 3. Filtrer et copier les images et labels\n",
    "\n",
    "Pour chaque image :\n",
    "- Vérifier si un fichier .txt correspondant existe dans le répertoire des labels\n",
    "- Si un label est trouvé : copier l'image et le label vers le dossier approprié (train/valid/test)\n",
    "- Si aucun label n'est trouvé : afficher un avertissement et sauter l'image"
   ]
  },
  {
   "cell_type": "code",
   "execution_count": null,
   "id": "9321e420",
   "metadata": {},
   "outputs": [],
   "source": [
    "import os\n",
    "import shutil\n",
    "\n",
    "# === 1 Dossiers source et sortie ===\n",
    "source_dir = \"../Data/Raw/Data_Brain\"   # Ton dataset\n",
    "output_dir = \"../Data/outputpath\"      # Nouveau dossier de sortie\n",
    "\n",
    "# Créer le dossier de sortie et ses sous-dossiers\n",
    "for sub in [\"images\", \"labels\"]:\n",
    "    for split in [\"Train\", \"Val\"]:\n",
    "        path = os.path.join(output_dir, sub, split)\n",
    "        os.makedirs(path, exist_ok=True)\n",
    "\n",
    "print(\" Dossiers créés avec succès !\")\n",
    "\n",
    "# === 2 Extensions d’images acceptées ===\n",
    "valid_ext = (\".jpg\", \".jpeg\", \".png\", \".bmp\")\n",
    "\n",
    "# === 3 Parcourir Train et Val ===\n",
    "for split in [\"Train\", \"Val\"]:\n",
    "    split_path = os.path.join(source_dir, split)\n",
    "\n",
    "    print(f\"\\n🔹 Traitement de {split_path}\")\n",
    "\n",
    "    # Parcourir les classes (Glioma, Meningioma, etc.)\n",
    "    for cls in os.listdir(split_path):\n",
    "        class_path = os.path.join(split_path, cls)\n",
    "        if not os.path.isdir(class_path):\n",
    "            continue\n",
    "\n",
    "        img_folder = os.path.join(class_path, \"images\")\n",
    "        label_folder = os.path.join(class_path, \"labels\")\n",
    "\n",
    "        if not os.path.exists(img_folder) or not os.path.exists(label_folder):\n",
    "            print(f\"⚠️ {cls} n’a pas de dossier images ou labels.\")\n",
    "            continue\n",
    "\n",
    "        for img_name in os.listdir(img_folder):\n",
    "            if not img_name.lower().endswith(valid_ext):\n",
    "                continue\n",
    "\n",
    "            label_name = os.path.splitext(img_name)[0] + \".txt\"\n",
    "            img_path = os.path.join(img_folder, img_name)\n",
    "            label_path = os.path.join(label_folder, label_name)\n",
    "\n",
    "            if os.path.exists(label_path):\n",
    "                shutil.copy(img_path, os.path.join(output_dir, \"images\", split, img_name))\n",
    "                shutil.copy(label_path, os.path.join(output_dir, \"labels\", split, label_name))\n",
    "            else:\n",
    "                print(f\"⚠️ Pas de label pour {img_name}\")\n",
    "\n",
    "print(\"\\n✅ Copie terminée avec succès ! Seules les images avec labels ont été copiées.\")\n"
   ]
  },
  {
   "cell_type": "markdown",
   "id": "41c3854e",
   "metadata": {},
   "source": [
    "## 4. Créer le fichier data.yaml sans augmentations\n",
    "\n",
    "Ce fichier contient :\n",
    "- Les chemins des dossiers d'entraînement, de validation et de test\n",
    "- Le nombre de classes et le nom de chaque classe\n",
    "- Configuration sans augmentations de données"
   ]
  },
  {
   "cell_type": "code",
   "execution_count": null,
   "id": "76707542",
   "metadata": {},
   "outputs": [],
   "source": [
    "import yaml\n",
    "\n",
    "data_config = {\n",
    "    'train': 'Data/outputpath/images/Train',\n",
    "    'val': 'Data/outputpath/images/Val',\n",
    "    'nc': 4,\n",
    "    'names': ['Glioma', 'Meningioma', 'No Tumor', 'Pituitary'],\n",
    "    'augment': False\n",
    "}\n",
    "\n",
    "with open('../data.yaml', 'w') as file:\n",
    "    yaml.dump(data_config, file)\n",
    "\n",
    "print(\"✅ Fichier data2.yaml créé avec succès (avec augmentations desactivées) !\")\n"
   ]
  },
  {
   "cell_type": "markdown",
   "id": "6b942cb1",
   "metadata": {},
   "source": [
    "## 5. Créer le fichier data2.yaml avec augmentations\n",
    "\n",
    "Ce fichier contient la même structure que data.yaml mais avec des augmentations de données activées"
   ]
  },
  {
   "cell_type": "code",
   "execution_count": null,
   "id": "e10c4597",
   "metadata": {},
   "outputs": [],
   "source": [
    "import yaml\n",
    "\n",
    "data2_config = {\n",
    "    'train': 'Data/outputpath/images/Train',\n",
    "    'val': 'Data/outputpath/images/Val',\n",
    "    'nc': 4,\n",
    "    'names': ['Glioma', 'Meningioma', 'No Tumor', 'Pituitary'],\n",
    "    'augment': True\n",
    "}\n",
    "\n",
    "with open('../data2.yaml', 'w') as file:\n",
    "    yaml.dump(data2_config, file)\n",
    "\n",
    "print(\"✅ Fichier data2.yaml créé avec succès (avec augmentations activées) !\")\n"
   ]
  },
  {
   "cell_type": "markdown",
   "id": "d11fc284",
   "metadata": {},
   "source": [
    "## 6. Compter le nombre d'images et d'étiquettes\n",
    "\n",
    "Compter les images et labels présents dans les ensembles d'entraînement et de validation"
   ]
  },
  {
   "cell_type": "code",
   "execution_count": null,
   "id": "567dcf06",
   "metadata": {},
   "outputs": [],
   "source": []
  },
  {
   "cell_type": "markdown",
   "id": "9d72f00d",
   "metadata": {},
   "source": [
    "## 7. Vérifier la correspondance images-labels et nettoyer les données\n",
    "\n",
    "- Vérifier que chaque image possède un label correspondant\n",
    "- Supprimer les images sans label\n",
    "- Supprimer les labels sans image correspondante"
   ]
  },
  {
   "cell_type": "code",
   "execution_count": null,
   "id": "12a16b31",
   "metadata": {},
   "outputs": [],
   "source": []
  },
  {
   "cell_type": "markdown",
   "id": "4ec62c68",
   "metadata": {},
   "source": [
    "## 8. Entraîner le modèle YOLOv8\n",
    "\n",
    "Lancer l'entraînement du modèle YOLO en définissant les hyperparamètres appropriés"
   ]
  },
  {
   "cell_type": "code",
   "execution_count": null,
   "id": "bf92639e",
   "metadata": {},
   "outputs": [],
   "source": []
  },
  {
   "cell_type": "markdown",
   "id": "c0d4e595",
   "metadata": {},
   "source": [
    "## 9. Évaluer et tester le modèle\n",
    "\n",
    "Évaluer et tester le modèle après l'entraînement pour mesurer :\n",
    "- Les performances\n",
    "- La précision\n",
    "- La capacité à généraliser sur des données inédites"
   ]
  },
  {
   "cell_type": "code",
   "execution_count": null,
   "id": "5e2ef526",
   "metadata": {},
   "outputs": [],
   "source": []
  },
  {
   "cell_type": "markdown",
   "id": "54c968dc",
   "metadata": {},
   "source": [
    "## 10. Sauvegarder le modèle entraîné\n",
    "\n",
    "Sauvegarder le modèle entraîné pour une utilisation future"
   ]
  },
  {
   "cell_type": "code",
   "execution_count": null,
   "id": "598a42c0",
   "metadata": {},
   "outputs": [],
   "source": []
  }
 ],
 "metadata": {
  "kernelspec": {
   "display_name": "Python 3",
   "language": "python",
   "name": "python3"
  },
  "language_info": {
   "codemirror_mode": {
    "name": "ipython",
    "version": 3
   },
   "file_extension": ".py",
   "mimetype": "text/x-python",
   "name": "python",
   "nbconvert_exporter": "python",
   "pygments_lexer": "ipython3",
   "version": "3.13.7"
  }
 },
 "nbformat": 4,
 "nbformat_minor": 5
}
